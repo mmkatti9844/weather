{
 "cells": [
  {
   "cell_type": "code",
   "execution_count": 1,
   "id": "caa6e7af",
   "metadata": {},
   "outputs": [
    {
     "name": "stdout",
     "output_type": "stream",
     "text": [
      "Requirement already satisfied: requests in c:\\users\\admin\\anaconda3\\lib\\site-packages (2.31.0)\n",
      "Requirement already satisfied: charset-normalizer<4,>=2 in c:\\users\\admin\\anaconda3\\lib\\site-packages (from requests) (2.0.4)\n",
      "Requirement already satisfied: idna<4,>=2.5 in c:\\users\\admin\\anaconda3\\lib\\site-packages (from requests) (3.4)\n",
      "Requirement already satisfied: urllib3<3,>=1.21.1 in c:\\users\\admin\\anaconda3\\lib\\site-packages (from requests) (1.26.16)\n",
      "Requirement already satisfied: certifi>=2017.4.17 in c:\\users\\admin\\anaconda3\\lib\\site-packages (from requests) (2023.7.22)\n",
      "Note: you may need to restart the kernel to use updated packages.\n"
     ]
    }
   ],
   "source": [
    "pip install requests"
   ]
  },
  {
   "cell_type": "code",
   "execution_count": 3,
   "id": "e5c4675b",
   "metadata": {},
   "outputs": [],
   "source": [
    "import requests"
   ]
  },
  {
   "cell_type": "code",
   "execution_count": 4,
   "id": "a583cadd",
   "metadata": {},
   "outputs": [
    {
     "name": "stdout",
     "output_type": "stream",
     "text": [
      "enter the city name: Chitradurga\n"
     ]
    }
   ],
   "source": [
    "city = input('enter the city name: ')"
   ]
  },
  {
   "cell_type": "code",
   "execution_count": 5,
   "id": "79c03942",
   "metadata": {},
   "outputs": [
    {
     "name": "stdout",
     "output_type": "stream",
     "text": [
      "Displaying Weather report for: Chitradurga\n"
     ]
    }
   ],
   "source": [
    "print('Displaying Weather report for: ' + city)"
   ]
  },
  {
   "cell_type": "code",
   "execution_count": 6,
   "id": "03e44020",
   "metadata": {},
   "outputs": [],
   "source": [
    "url = 'https://wttr.in/{}'.format(city)"
   ]
  },
  {
   "cell_type": "code",
   "execution_count": 7,
   "id": "a5604311",
   "metadata": {},
   "outputs": [],
   "source": [
    "res = requests.get(url)"
   ]
  },
  {
   "cell_type": "code",
   "execution_count": 8,
   "id": "03d7accf",
   "metadata": {},
   "outputs": [
    {
     "data": {
      "text/plain": [
       "<Response [200]>"
      ]
     },
     "execution_count": 8,
     "metadata": {},
     "output_type": "execute_result"
    }
   ],
   "source": [
    "res"
   ]
  },
  {
   "cell_type": "code",
   "execution_count": 9,
   "id": "c47e971c",
   "metadata": {},
   "outputs": [
    {
     "name": "stdout",
     "output_type": "stream",
     "text": [
      "Weather report: Chitradurga\n",
      "\n",
      "  \u001b[38;5;226m   \\  /\u001b[0m       Partly cloudy\n",
      "  \u001b[38;5;226m _ /\"\"\u001b[38;5;250m.-.    \u001b[0m \u001b[38;5;220m+27\u001b[0m(\u001b[38;5;214m28\u001b[0m) °C\u001b[0m     \n",
      "  \u001b[38;5;226m   \\_\u001b[38;5;250m(   ).  \u001b[0m \u001b[1m→\u001b[0m \u001b[38;5;226m14\u001b[0m km/h\u001b[0m      \n",
      "  \u001b[38;5;226m   /\u001b[38;5;250m(___(__) \u001b[0m 10 km\u001b[0m          \n",
      "                0.0 mm\u001b[0m         \n",
      "                                                       ┌─────────────┐                                                       \n",
      "┌──────────────────────────────┬───────────────────────┤  Fri 22 Sep ├───────────────────────┬──────────────────────────────┐\n",
      "│            Morning           │             Noon      └──────┬──────┘     Evening           │             Night            │\n",
      "├──────────────────────────────┼──────────────────────────────┼──────────────────────────────┼──────────────────────────────┤\n",
      "│ \u001b[38;5;226m   \\  /\u001b[0m       Partly cloudy  │ \u001b[38;5;226m   \\  /\u001b[0m       Partly cloudy  │ \u001b[38;5;226m   \\  /\u001b[0m       Partly cloudy  │ \u001b[38;5;226m   \\  /\u001b[0m       Partly cloudy  │\n",
      "│ \u001b[38;5;226m _ /\"\"\u001b[38;5;250m.-.    \u001b[0m \u001b[38;5;220m+25\u001b[0m(\u001b[38;5;220m27\u001b[0m) °C\u001b[0m     │ \u001b[38;5;226m _ /\"\"\u001b[38;5;250m.-.    \u001b[0m \u001b[38;5;214m+30\u001b[0m(\u001b[38;5;208m31\u001b[0m) °C\u001b[0m     │ \u001b[38;5;226m _ /\"\"\u001b[38;5;250m.-.    \u001b[0m \u001b[38;5;214m+28\u001b[0m(\u001b[38;5;214m29\u001b[0m) °C\u001b[0m     │ \u001b[38;5;226m _ /\"\"\u001b[38;5;250m.-.    \u001b[0m \u001b[38;5;220m+25\u001b[0m(\u001b[38;5;220m26\u001b[0m) °C\u001b[0m     │\n",
      "│ \u001b[38;5;226m   \\_\u001b[38;5;250m(   ).  \u001b[0m \u001b[1m→\u001b[0m \u001b[38;5;226m15\u001b[0m-\u001b[38;5;220m17\u001b[0m km/h\u001b[0m   │ \u001b[38;5;226m   \\_\u001b[38;5;250m(   ).  \u001b[0m \u001b[1m→\u001b[0m \u001b[38;5;226m14\u001b[0m-\u001b[38;5;220m16\u001b[0m km/h\u001b[0m   │ \u001b[38;5;226m   \\_\u001b[38;5;250m(   ).  \u001b[0m \u001b[1m→\u001b[0m \u001b[38;5;214m21\u001b[0m-\u001b[38;5;202m28\u001b[0m km/h\u001b[0m   │ \u001b[38;5;226m   \\_\u001b[38;5;250m(   ).  \u001b[0m \u001b[1m→\u001b[0m \u001b[38;5;214m23\u001b[0m-\u001b[38;5;196m32\u001b[0m km/h\u001b[0m   │\n",
      "│ \u001b[38;5;226m   /\u001b[38;5;250m(___(__) \u001b[0m 10 km\u001b[0m          │ \u001b[38;5;226m   /\u001b[38;5;250m(___(__) \u001b[0m 10 km\u001b[0m          │ \u001b[38;5;226m   /\u001b[38;5;250m(___(__) \u001b[0m 10 km\u001b[0m          │ \u001b[38;5;226m   /\u001b[38;5;250m(___(__) \u001b[0m 10 km\u001b[0m          │\n",
      "│               0.0 mm | 0%\u001b[0m    │               0.0 mm | 0%\u001b[0m    │               0.0 mm | 0%\u001b[0m    │               0.0 mm | 0%\u001b[0m    │\n",
      "└──────────────────────────────┴──────────────────────────────┴──────────────────────────────┴──────────────────────────────┘\n",
      "                                                       ┌─────────────┐                                                       \n",
      "┌──────────────────────────────┬───────────────────────┤  Sat 23 Sep ├───────────────────────┬──────────────────────────────┐\n",
      "│            Morning           │             Noon      └──────┬──────┘     Evening           │             Night            │\n",
      "├──────────────────────────────┼──────────────────────────────┼──────────────────────────────┼──────────────────────────────┤\n",
      "│ \u001b[38;5;226m   \\  /\u001b[0m       Partly cloudy  │ \u001b[38;5;226m _`/\"\"\u001b[38;5;250m.-.    \u001b[0m Patchy rain po…│ \u001b[38;5;226m _`/\"\"\u001b[38;5;250m.-.    \u001b[0m Patchy rain po…│ \u001b[38;5;226m   \\  /\u001b[0m       Partly cloudy  │\n",
      "│ \u001b[38;5;226m _ /\"\"\u001b[38;5;250m.-.    \u001b[0m \u001b[38;5;220m+25\u001b[0m(\u001b[38;5;220m26\u001b[0m) °C\u001b[0m     │ \u001b[38;5;226m  ,\\_\u001b[38;5;250m(   ).  \u001b[0m \u001b[38;5;214m+29\u001b[0m(\u001b[38;5;214m30\u001b[0m) °C\u001b[0m     │ \u001b[38;5;226m  ,\\_\u001b[38;5;250m(   ).  \u001b[0m \u001b[38;5;220m+25\u001b[0m(\u001b[38;5;220m27\u001b[0m) °C\u001b[0m     │ \u001b[38;5;226m _ /\"\"\u001b[38;5;250m.-.    \u001b[0m \u001b[38;5;226m+23\u001b[0m(\u001b[38;5;220m25\u001b[0m) °C\u001b[0m     │\n",
      "│ \u001b[38;5;226m   \\_\u001b[38;5;250m(   ).  \u001b[0m \u001b[1m→\u001b[0m \u001b[38;5;226m14\u001b[0m-\u001b[38;5;220m16\u001b[0m km/h\u001b[0m   │ \u001b[38;5;226m   /\u001b[38;5;250m(___(__) \u001b[0m \u001b[1m→\u001b[0m \u001b[38;5;226m15\u001b[0m-\u001b[38;5;220m18\u001b[0m km/h\u001b[0m   │ \u001b[38;5;226m   /\u001b[38;5;250m(___(__) \u001b[0m \u001b[1m→\u001b[0m \u001b[38;5;208m25\u001b[0m-\u001b[38;5;196m34\u001b[0m km/h\u001b[0m   │ \u001b[38;5;226m   \\_\u001b[38;5;250m(   ).  \u001b[0m \u001b[1m→\u001b[0m \u001b[38;5;208m26\u001b[0m-\u001b[38;5;196m35\u001b[0m km/h\u001b[0m   │\n",
      "│ \u001b[38;5;226m   /\u001b[38;5;250m(___(__) \u001b[0m 10 km\u001b[0m          │ \u001b[38;5;111m     ‘ ‘ ‘ ‘ \u001b[0m 10 km\u001b[0m          │ \u001b[38;5;111m     ‘ ‘ ‘ ‘ \u001b[0m 9 km\u001b[0m           │ \u001b[38;5;226m   /\u001b[38;5;250m(___(__) \u001b[0m 10 km\u001b[0m          │\n",
      "│               0.0 mm | 0%\u001b[0m    │ \u001b[38;5;111m    ‘ ‘ ‘ ‘  \u001b[0m 0.0 mm | 86%\u001b[0m   │ \u001b[38;5;111m    ‘ ‘ ‘ ‘  \u001b[0m 0.3 mm | 86%\u001b[0m   │               0.0 mm | 0%\u001b[0m    │\n",
      "└──────────────────────────────┴──────────────────────────────┴──────────────────────────────┴──────────────────────────────┘\n",
      "                                                       ┌─────────────┐                                                       \n",
      "┌──────────────────────────────┬───────────────────────┤  Sun 24 Sep ├───────────────────────┬──────────────────────────────┐\n",
      "│            Morning           │             Noon      └──────┬──────┘     Evening           │             Night            │\n",
      "├──────────────────────────────┼──────────────────────────────┼──────────────────────────────┼──────────────────────────────┤\n",
      "│ \u001b[38;5;226m   \\  /\u001b[0m       Partly cloudy  │ \u001b[38;5;226m   \\  /\u001b[0m       Partly cloudy  │ \u001b[38;5;226m _`/\"\"\u001b[38;5;250m.-.    \u001b[0m Patchy rain po…│ \u001b[38;5;226m   \\  /\u001b[0m       Partly cloudy  │\n",
      "│ \u001b[38;5;226m _ /\"\"\u001b[38;5;250m.-.    \u001b[0m \u001b[38;5;220m+25\u001b[0m(\u001b[38;5;220m27\u001b[0m) °C\u001b[0m     │ \u001b[38;5;226m _ /\"\"\u001b[38;5;250m.-.    \u001b[0m \u001b[38;5;214m+30\u001b[0m(\u001b[38;5;208m31\u001b[0m) °C\u001b[0m     │ \u001b[38;5;226m  ,\\_\u001b[38;5;250m(   ).  \u001b[0m \u001b[38;5;220m+26\u001b[0m(\u001b[38;5;220m27\u001b[0m) °C\u001b[0m     │ \u001b[38;5;226m _ /\"\"\u001b[38;5;250m.-.    \u001b[0m \u001b[38;5;226m+23\u001b[0m(\u001b[38;5;220m25\u001b[0m) °C\u001b[0m     │\n",
      "│ \u001b[38;5;226m   \\_\u001b[38;5;250m(   ).  \u001b[0m \u001b[1m→\u001b[0m \u001b[38;5;220m19\u001b[0m-\u001b[38;5;214m22\u001b[0m km/h\u001b[0m   │ \u001b[38;5;226m   \\_\u001b[38;5;250m(   ).  \u001b[0m \u001b[1m→\u001b[0m \u001b[38;5;220m17\u001b[0m-\u001b[38;5;220m19\u001b[0m km/h\u001b[0m   │ \u001b[38;5;226m   /\u001b[38;5;250m(___(__) \u001b[0m \u001b[1m→\u001b[0m \u001b[38;5;214m22\u001b[0m-\u001b[38;5;202m30\u001b[0m km/h\u001b[0m   │ \u001b[38;5;226m   \\_\u001b[38;5;250m(   ).  \u001b[0m \u001b[1m→\u001b[0m \u001b[38;5;208m27\u001b[0m-\u001b[38;5;196m36\u001b[0m km/h\u001b[0m   │\n",
      "│ \u001b[38;5;226m   /\u001b[38;5;250m(___(__) \u001b[0m 10 km\u001b[0m          │ \u001b[38;5;226m   /\u001b[38;5;250m(___(__) \u001b[0m 10 km\u001b[0m          │ \u001b[38;5;111m     ‘ ‘ ‘ ‘ \u001b[0m 10 km\u001b[0m          │ \u001b[38;5;226m   /\u001b[38;5;250m(___(__) \u001b[0m 10 km\u001b[0m          │\n",
      "│               0.0 mm | 0%\u001b[0m    │               0.0 mm | 0%\u001b[0m    │ \u001b[38;5;111m    ‘ ‘ ‘ ‘  \u001b[0m 0.0 mm | 83%\u001b[0m   │               0.0 mm | 0%\u001b[0m    │\n",
      "└──────────────────────────────┴──────────────────────────────┴──────────────────────────────┴──────────────────────────────┘\n",
      "Location: Chitradurga, Chitradurga taluku, Chitradurga district, Karnataka, 577500, India [14.2266443,76.4005122]\n",
      "\n",
      "Follow \u001b[46m\u001b[30m@igor_chubin\u001b[0m for wttr.in updates\n",
      "\n"
     ]
    }
   ],
   "source": [
    "print(res.text)"
   ]
  }
 ],
 "metadata": {
  "kernelspec": {
   "display_name": "Python 3 (ipykernel)",
   "language": "python",
   "name": "python3"
  },
  "language_info": {
   "codemirror_mode": {
    "name": "ipython",
    "version": 3
   },
   "file_extension": ".py",
   "mimetype": "text/x-python",
   "name": "python",
   "nbconvert_exporter": "python",
   "pygments_lexer": "ipython3",
   "version": "3.11.4"
  }
 },
 "nbformat": 4,
 "nbformat_minor": 5
}
